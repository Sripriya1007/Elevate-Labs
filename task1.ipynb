{
  "metadata": {
    "kernelspec": {
      "name": "python",
      "display_name": "Python (Pyodide)",
      "language": "python"
    },
    "language_info": {
      "codemirror_mode": {
        "name": "python",
        "version": 3
      },
      "file_extension": ".py",
      "mimetype": "text/x-python",
      "name": "python",
      "nbconvert_exporter": "python",
      "pygments_lexer": "ipython3",
      "version": "3.8"
    }
  },
  "nbformat_minor": 5,
  "nbformat": 4,
  "cells": [
    {
      "id": "252a070b-9cd1-4fcf-a8b1-d22092440fe6",
      "cell_type": "code",
      "source": "import pandas as pd\n\n# Load dataset\ndf = pd.read_csv('marketing_campaign.csv', sep='\\t')\n\n\n# Initial checks\nprint(\"Original shape:\", df.shape)\nprint(\"\\nMissing values:\\n\", df.isnull().sum())\nprint(\"\\nData types:\\n\", df.dtypes)\n\n# 1. Drop ID column (not useful for analysis)\nif 'ID' in df.columns:\n    df.drop(columns='ID', inplace=True)\n\n# 2. Remove duplicate rows\ndf.drop_duplicates(inplace=True)\n\n# 3. Handle missing values\n# Fill missing income with median\nif 'Income' in df.columns:\n    df['Income'] = df['Income'].fillna(df['Income'].median())\n\n# 4. Standardize categorical columns\nif 'Education' in df.columns:\n    df['Education'] = df['Education'].str.strip().str.title()\n\nif 'Marital_Status' in df.columns:\n    df['Marital_Status'] = df['Marital_Status'].str.strip().str.lower()\n\n# 5. Convert Dt_Customer to datetime format\nif 'Dt_Customer' in df.columns:\n    df['Dt_Customer'] = pd.to_datetime(df['Dt_Customer'], errors='coerce', dayfirst=True)\n\n# 6. Rename columns (lowercase, underscores)\ndf.columns = [col.strip().lower().replace(' ', '_') for col in df.columns]\n\n# DEBUG: print column names after renaming\nprint(\"\\nColumns after renaming:\\n\", df.columns.tolist())\n\n# 7. Correct data types (if year_birth exists)\nif 'year_birth' in df.columns:\n    df['year_birth'] = pd.to_numeric(df['year_birth'], errors='coerce').astype('Int64')\nelse:\n    print(\"\\nColumn 'year_birth' not found after renaming. Skipping type conversion.\")\n\n# Final check\nprint(\"\\nCleaned shape:\", df.shape)\nprint(\"\\nRemaining missing values:\\n\", df.isnull().sum())\n\n# Save cleaned dataset\ndf.to_csv('cleaned_marketing_campaign.csv', index=False)\nprint(\"\\n✅ Cleaned dataset saved as 'cleaned_marketing_campaign.csv'\")\n",
      "metadata": {
        "trusted": true
      },
      "outputs": [
        {
          "name": "stdout",
          "output_type": "stream",
          "text": "Original shape: (2240, 29)\n\nMissing values:\n id                      0\nyear_birth              0\neducation               0\nmarital_status          0\nincome                 24\nkidhome                 0\nteenhome                0\ndt_customer             0\nrecency                 0\nmntwines                0\nmntfruits               0\nmntmeatproducts         0\nmntfishproducts         0\nmntsweetproducts        0\nmntgoldprods            0\nnumdealspurchases       0\nnumwebpurchases         0\nnumcatalogpurchases     0\nnumstorepurchases       0\nnumwebvisitsmonth       0\nacceptedcmp3            0\nacceptedcmp4            0\nacceptedcmp5            0\nacceptedcmp1            0\nacceptedcmp2            0\ncomplain                0\nz_costcontact           0\nz_revenue               0\nresponse                0\ndtype: int64\n\nData types:\n id                       int64\nyear_birth               int64\neducation               object\nmarital_status          object\nincome                 float64\nkidhome                  int64\nteenhome                 int64\ndt_customer             object\nrecency                  int64\nmntwines                 int64\nmntfruits                int64\nmntmeatproducts          int64\nmntfishproducts          int64\nmntsweetproducts         int64\nmntgoldprods             int64\nnumdealspurchases        int64\nnumwebpurchases          int64\nnumcatalogpurchases      int64\nnumstorepurchases        int64\nnumwebvisitsmonth        int64\nacceptedcmp3             int64\nacceptedcmp4             int64\nacceptedcmp5             int64\nacceptedcmp1             int64\nacceptedcmp2             int64\ncomplain                 int64\nz_costcontact            int64\nz_revenue                int64\nresponse                 int64\ndtype: object\n\nColumns after renaming:\n ['id', 'year_birth', 'education', 'marital_status', 'income', 'kidhome', 'teenhome', 'dt_customer', 'recency', 'mntwines', 'mntfruits', 'mntmeatproducts', 'mntfishproducts', 'mntsweetproducts', 'mntgoldprods', 'numdealspurchases', 'numwebpurchases', 'numcatalogpurchases', 'numstorepurchases', 'numwebvisitsmonth', 'acceptedcmp3', 'acceptedcmp4', 'acceptedcmp5', 'acceptedcmp1', 'acceptedcmp2', 'complain', 'z_costcontact', 'z_revenue', 'response']\n\n (2240, 29)pe:\n\nRemaining missing values:\n id                      0\nyear_birth              0\neducation               0\nmarital_status          0\nincome                 24\nkidhome                 0\nteenhome                0\ndt_customer             0\nrecency                 0\nmntwines                0\nmntfruits               0\nmntmeatproducts         0\nmntfishproducts         0\nmntsweetproducts        0\nmntgoldprods            0\nnumdealspurchases       0\nnumwebpurchases         0\nnumcatalogpurchases     0\nnumstorepurchases       0\nnumwebvisitsmonth       0\nacceptedcmp3            0\nacceptedcmp4            0\nacceptedcmp5            0\nacceptedcmp1            0\nacceptedcmp2            0\ncomplain                0\nz_costcontact           0\nz_revenue               0\nresponse                0\ndtype: int64\n\n✅ Cleaned dataset saved as 'cleaned_marketing_campaign.csv'\n"
        }
      ],
      "execution_count": 6
    },
    {
      "id": "5f9278a7-dec1-4457-8714-b9de5467dfc9",
      "cell_type": "code",
      "source": "",
      "metadata": {
        "trusted": true
      },
      "outputs": [],
      "execution_count": null
    }
  ]
}